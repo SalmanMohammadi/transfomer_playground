{
 "cells": [
  {
   "cell_type": "code",
   "execution_count": 1,
   "metadata": {},
   "outputs": [
    {
     "data": {
      "text/plain": [
       "(PosixPath('/Users/salman/projects/transformer_playground/data/othello_championship'),\n",
       " ['/Users/salman/projects/transformer_playground/data/othello_championship/WTHOR-2009.pgn',\n",
       "  '/Users/salman/projects/transformer_playground/data/othello_championship/WTHOR-2008.pgn',\n",
       "  '/Users/salman/projects/transformer_playground/data/othello_championship/WTHOR-2018.pgn',\n",
       "  '/Users/salman/projects/transformer_playground/data/othello_championship/WTHOR-2019.pgn',\n",
       "  '/Users/salman/projects/transformer_playground/data/othello_championship/WTHOR-1985.pgn'],\n",
       " 55)"
      ]
     },
     "execution_count": 1,
     "metadata": {},
     "output_type": "execute_result"
    }
   ],
   "source": [
    "from pathlib import Path\n",
    "data_root = Path(\"/Users/salman/projects/transformer_playground/data/othello_championship/\")\n",
    "game_paths = list(map(str, data_root.glob(\"*.pgn\")))\n",
    "data_root, game_paths[:5], len(game_paths)"
   ]
  },
  {
   "attachments": {},
   "cell_type": "markdown",
   "metadata": {},
   "source": [
    "Mostly pulled from [the othello_world repo](https://github.com/likenneth/othello_world/blob/master/data/othello.py)"
   ]
  },
  {
   "cell_type": "code",
   "execution_count": 2,
   "metadata": {},
   "outputs": [],
   "source": [
    "\n",
    "import pgn"
   ]
  },
  {
   "cell_type": "code",
   "execution_count": 3,
   "metadata": {},
   "outputs": [
    {
     "data": {
      "text/plain": [
       "([1, 2, 3], ['a', 'b', 'c'])"
      ]
     },
     "execution_count": 3,
     "metadata": {},
     "output_type": "execute_result"
    }
   ],
   "source": [
    "x = [(1, 'a'), (2, 'b'), (3, 'c')]\n",
    "x1, x2 = map(list, zip(*x))\n",
    "x1, x2"
   ]
  },
  {
   "cell_type": "code",
   "execution_count": null,
   "metadata": {},
   "outputs": [],
   "source": [
    "import pgn\n",
    "with open('/Users/salman/projects/transformer_playground/data/othello_championship/liveothello2010.pgn', \"r\") as f:\n",
    "    res = pgn.loads(f.read())\n",
    "BOARD_CHARS = list(\"abcdefgh\")\n",
    "len(res)\n"
   ]
  },
  {
   "cell_type": "code",
   "execution_count": null,
   "metadata": {},
   "outputs": [],
   "source": [
    "board_chars = list(\"ABCDEFGH\")"
   ]
  },
  {
   "cell_type": "code",
   "execution_count": null,
   "metadata": {},
   "outputs": [],
   "source": [
    "board_chars.index(\"A\")"
   ]
  },
  {
   "cell_type": "code",
   "execution_count": null,
   "metadata": {},
   "outputs": [],
   "source": [
    "res[220].moves"
   ]
  },
  {
   "cell_type": "code",
   "execution_count": null,
   "metadata": {},
   "outputs": [],
   "source": [
    "moves = list(filter(lambda x: not x[0].isdigit(), res[220].moves))"
   ]
  },
  {
   "cell_type": "code",
   "execution_count": null,
   "metadata": {},
   "outputs": [],
   "source": [
    "list(filter(lambda x: x[0].lower() in BOARD_CHARS, moves))"
   ]
  },
  {
   "cell_type": "code",
   "execution_count": null,
   "metadata": {},
   "outputs": [],
   "source": [
    "res[23].result"
   ]
  },
  {
   "cell_type": "code",
   "execution_count": null,
   "metadata": {},
   "outputs": [],
   "source": [
    "res[48].result"
   ]
  },
  {
   "cell_type": "code",
   "execution_count": null,
   "metadata": {},
   "outputs": [],
   "source": [
    "for i, game in enumerate(res):\n",
    "    print(i, game.result)"
   ]
  },
  {
   "cell_type": "code",
   "execution_count": null,
   "metadata": {},
   "outputs": [],
   "source": [
    "game = res[500]\n",
    "board_moves = [(board_chars.index(move[0]) * 8) + (int(move[1]) - 1) for move in game.moves]\n",
    "\n",
    "result = game.result.split(\"-\")\n",
    "result"
   ]
  },
  {
   "cell_type": "markdown",
   "metadata": {},
   "source": []
  },
  {
   "cell_type": "code",
   "execution_count": 1,
   "metadata": {},
   "outputs": [],
   "source": [
    "\n",
    "from transformer_playground.data.othello import OthelloDataset\n",
    "ds = OthelloDataset(\n",
    "    data_root=\"/Users/salman/projects/transformer_playground/data/othello_championship\",\n",
    "    seq_len=100\n",
    ")"
   ]
  },
  {
   "cell_type": "code",
   "execution_count": 1,
   "metadata": {},
   "outputs": [
    {
     "ename": "NameError",
     "evalue": "name 'ds' is not defined",
     "output_type": "error",
     "traceback": [
      "\u001b[0;31m---------------------------------------------------------------------------\u001b[0m",
      "\u001b[0;31mNameError\u001b[0m                                 Traceback (most recent call last)",
      "Cell \u001b[0;32mIn[1], line 1\u001b[0m\n\u001b[0;32m----> 1\u001b[0m \u001b[39mlen\u001b[39m(ds\u001b[39m.\u001b[39mvocabulary)\n",
      "\u001b[0;31mNameError\u001b[0m: name 'ds' is not defined"
     ]
    }
   ],
   "source": [
    "len(ds.vocabulary)"
   ]
  },
  {
   "cell_type": "code",
   "execution_count": 2,
   "metadata": {},
   "outputs": [
    {
     "data": {
      "text/plain": [
       "99"
      ]
     },
     "execution_count": 2,
     "metadata": {},
     "output_type": "execute_result"
    }
   ],
   "source": [
    "\n",
    "sequence = ds[0]\n",
    "len(sequence)"
   ]
  }
 ],
 "metadata": {
  "kernelspec": {
   "display_name": "venv",
   "language": "python",
   "name": "python3"
  },
  "language_info": {
   "codemirror_mode": {
    "name": "ipython",
    "version": 3
   },
   "file_extension": ".py",
   "mimetype": "text/x-python",
   "name": "python",
   "nbconvert_exporter": "python",
   "pygments_lexer": "ipython3",
   "version": "3.10.11"
  },
  "orig_nbformat": 4
 },
 "nbformat": 4,
 "nbformat_minor": 2
}
