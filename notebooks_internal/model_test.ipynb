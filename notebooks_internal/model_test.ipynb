{
 "cells": [
  {
   "cell_type": "code",
   "execution_count": 3,
   "metadata": {},
   "outputs": [],
   "source": [
    "from transformer_playground.models.transformer import Transformer\n",
    "from transformer_playground.data.othello import OthelloDataset\n",
    "ds = OthelloDataset(\n",
    "    data_root=\"/Users/salman/projects/transformer_playground/data/othello_championship\",\n",
    "    seq_len=100\n",
    ")"
   ]
  },
  {
   "cell_type": "code",
   "execution_count": 10,
   "metadata": {},
   "outputs": [],
   "source": [
    "model = Transformer(1, 1, 128, 128, 128, ds.vocabulary_size, 100)"
   ]
  },
  {
   "cell_type": "code",
   "execution_count": 11,
   "metadata": {},
   "outputs": [
    {
     "data": {
      "text/plain": [
       "torch.Size([99])"
      ]
     },
     "execution_count": 11,
     "metadata": {},
     "output_type": "execute_result"
    }
   ],
   "source": [
    "seq = ds[0][0]\n",
    "seq.shape"
   ]
  },
  {
   "cell_type": "code",
   "execution_count": 13,
   "metadata": {},
   "outputs": [
    {
     "data": {
      "text/plain": [
       "tensor([[[ 0.6721, -0.4775,  1.4694,  ..., -0.7615,  0.4354, -0.1621],\n",
       "         [ 1.0335, -0.2200,  2.6762,  ..., -0.0203,  1.0000,  1.8449],\n",
       "         [ 0.9832, -0.4830,  1.0605,  ...,  0.9978,  1.3231, -1.4521],\n",
       "         ...,\n",
       "         [ 0.1122, -1.5903,  0.5161,  ...,  1.2583,  0.1848,  0.9363],\n",
       "         [ 0.5522, -1.3690,  0.6151,  ...,  0.5525,  0.3476,  1.5894],\n",
       "         [ 1.3388, -0.7626, -1.7284,  ...,  1.7417,  0.1028,  0.2510]]],\n",
       "       grad_fn=<AsStridedBackward0>)"
      ]
     },
     "execution_count": 13,
     "metadata": {},
     "output_type": "execute_result"
    }
   ],
   "source": [
    "import torch\n",
    "model(seq.to(torch.long).unsqueeze(0))"
   ]
  },
  {
   "cell_type": "code",
   "execution_count": null,
   "metadata": {},
   "outputs": [],
   "source": [
    "dataloader = torch."
   ]
  }
 ],
 "metadata": {
  "kernelspec": {
   "display_name": "venv",
   "language": "python",
   "name": "python3"
  },
  "language_info": {
   "codemirror_mode": {
    "name": "ipython",
    "version": 3
   },
   "file_extension": ".py",
   "mimetype": "text/x-python",
   "name": "python",
   "nbconvert_exporter": "python",
   "pygments_lexer": "ipython3",
   "version": "3.10.11"
  },
  "orig_nbformat": 4
 },
 "nbformat": 4,
 "nbformat_minor": 2
}
